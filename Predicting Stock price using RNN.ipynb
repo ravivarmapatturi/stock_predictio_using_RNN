{
 "cells": [
  {
   "cell_type": "code",
   "execution_count": 2,
   "id": "1fe5b853",
   "metadata": {},
   "outputs": [
    {
     "name": "stderr",
     "output_type": "stream",
     "text": [
      "C:\\Users\\raviv\\anaconda3\\lib\\site-packages\\pandas\\core\\arrays\\masked.py:60: UserWarning: Pandas requires version '1.3.6' or newer of 'bottleneck' (version '1.3.5' currently installed).\n",
      "  from pandas.core import (\n"
     ]
    }
   ],
   "source": [
    "\n",
    "import matplotlib.pyplot as plt\n",
    "import pandas as pd\n",
    " \n",
    "df = pd.read_excel(r'C:\\Users\\raviv\\Downloads\\Adjusted-Historical-Prices-NSE.xlsx',header=2)\n"
   ]
  },
  {
   "cell_type": "code",
   "execution_count": 3,
   "id": "3173cb18",
   "metadata": {},
   "outputs": [
    {
     "data": {
      "text/html": [
       "<div>\n",
       "<style scoped>\n",
       "    .dataframe tbody tr th:only-of-type {\n",
       "        vertical-align: middle;\n",
       "    }\n",
       "\n",
       "    .dataframe tbody tr th {\n",
       "        vertical-align: top;\n",
       "    }\n",
       "\n",
       "    .dataframe thead th {\n",
       "        text-align: right;\n",
       "    }\n",
       "</style>\n",
       "<table border=\"1\" class=\"dataframe\">\n",
       "  <thead>\n",
       "    <tr style=\"text-align: right;\">\n",
       "      <th></th>\n",
       "      <th>PriceDate</th>\n",
       "      <th>OpenPrice</th>\n",
       "      <th>Highprice</th>\n",
       "      <th>lowprice</th>\n",
       "      <th>closeprice</th>\n",
       "      <th>tradedvalue</th>\n",
       "      <th>Numberoftrades</th>\n",
       "      <th>TradedQuantity</th>\n",
       "      <th>AveragePrice</th>\n",
       "    </tr>\n",
       "  </thead>\n",
       "  <tbody>\n",
       "    <tr>\n",
       "      <th>0</th>\n",
       "      <td>02/05/2014</td>\n",
       "      <td>867.3000</td>\n",
       "      <td>873.3333</td>\n",
       "      <td>840.0333</td>\n",
       "      <td>842.3667</td>\n",
       "      <td>2.408006e+09</td>\n",
       "      <td>80981</td>\n",
       "      <td>2832488</td>\n",
       "      <td>850.1382</td>\n",
       "    </tr>\n",
       "    <tr>\n",
       "      <th>1</th>\n",
       "      <td>05/05/2014</td>\n",
       "      <td>842.7333</td>\n",
       "      <td>863.3333</td>\n",
       "      <td>834.1333</td>\n",
       "      <td>855.9667</td>\n",
       "      <td>1.871180e+09</td>\n",
       "      <td>57493</td>\n",
       "      <td>2194436</td>\n",
       "      <td>852.6927</td>\n",
       "    </tr>\n",
       "    <tr>\n",
       "      <th>2</th>\n",
       "      <td>06/05/2014</td>\n",
       "      <td>861.0333</td>\n",
       "      <td>869.8000</td>\n",
       "      <td>859.2667</td>\n",
       "      <td>866.6667</td>\n",
       "      <td>1.716827e+09</td>\n",
       "      <td>42173</td>\n",
       "      <td>1984607</td>\n",
       "      <td>865.0717</td>\n",
       "    </tr>\n",
       "    <tr>\n",
       "      <th>3</th>\n",
       "      <td>07/05/2014</td>\n",
       "      <td>865.1333</td>\n",
       "      <td>875.3333</td>\n",
       "      <td>859.3667</td>\n",
       "      <td>863.7333</td>\n",
       "      <td>1.996398e+09</td>\n",
       "      <td>55984</td>\n",
       "      <td>2302158</td>\n",
       "      <td>867.1854</td>\n",
       "    </tr>\n",
       "    <tr>\n",
       "      <th>4</th>\n",
       "      <td>08/05/2014</td>\n",
       "      <td>868.3333</td>\n",
       "      <td>871.8667</td>\n",
       "      <td>850.6667</td>\n",
       "      <td>866.1000</td>\n",
       "      <td>2.833874e+09</td>\n",
       "      <td>68693</td>\n",
       "      <td>3285168</td>\n",
       "      <td>862.6268</td>\n",
       "    </tr>\n",
       "    <tr>\n",
       "      <th>...</th>\n",
       "      <td>...</td>\n",
       "      <td>...</td>\n",
       "      <td>...</td>\n",
       "      <td>...</td>\n",
       "      <td>...</td>\n",
       "      <td>...</td>\n",
       "      <td>...</td>\n",
       "      <td>...</td>\n",
       "      <td>...</td>\n",
       "    </tr>\n",
       "    <tr>\n",
       "      <th>2504</th>\n",
       "      <td>14/06/2024</td>\n",
       "      <td>3718.0000</td>\n",
       "      <td>3720.0000</td>\n",
       "      <td>3675.0000</td>\n",
       "      <td>3687.8000</td>\n",
       "      <td>6.444028e+09</td>\n",
       "      <td>116358</td>\n",
       "      <td>1746508</td>\n",
       "      <td>3689.6639</td>\n",
       "    </tr>\n",
       "    <tr>\n",
       "      <th>2505</th>\n",
       "      <td>18/06/2024</td>\n",
       "      <td>3708.0000</td>\n",
       "      <td>3710.0000</td>\n",
       "      <td>3675.0000</td>\n",
       "      <td>3689.2000</td>\n",
       "      <td>7.155863e+09</td>\n",
       "      <td>125205</td>\n",
       "      <td>1936792</td>\n",
       "      <td>3694.6989</td>\n",
       "    </tr>\n",
       "    <tr>\n",
       "      <th>2506</th>\n",
       "      <td>19/06/2024</td>\n",
       "      <td>3690.0000</td>\n",
       "      <td>3699.0000</td>\n",
       "      <td>3575.0000</td>\n",
       "      <td>3589.9500</td>\n",
       "      <td>1.063733e+10</td>\n",
       "      <td>174218</td>\n",
       "      <td>2936151</td>\n",
       "      <td>3622.8809</td>\n",
       "    </tr>\n",
       "    <tr>\n",
       "      <th>2507</th>\n",
       "      <td>20/06/2024</td>\n",
       "      <td>3584.9500</td>\n",
       "      <td>3613.3000</td>\n",
       "      <td>3564.6000</td>\n",
       "      <td>3594.4500</td>\n",
       "      <td>9.394746e+09</td>\n",
       "      <td>168275</td>\n",
       "      <td>2618715</td>\n",
       "      <td>3587.5406</td>\n",
       "    </tr>\n",
       "    <tr>\n",
       "      <th>2508</th>\n",
       "      <td>21/06/2024</td>\n",
       "      <td>3604.0500</td>\n",
       "      <td>3610.0000</td>\n",
       "      <td>3516.0000</td>\n",
       "      <td>3535.0000</td>\n",
       "      <td>1.599073e+10</td>\n",
       "      <td>208119</td>\n",
       "      <td>4508508</td>\n",
       "      <td>3546.7908</td>\n",
       "    </tr>\n",
       "  </tbody>\n",
       "</table>\n",
       "<p>2509 rows × 9 columns</p>\n",
       "</div>"
      ],
      "text/plain": [
       "       PriceDate  OpenPrice  Highprice   lowprice  closeprice   tradedvalue  \\\n",
       "0     02/05/2014   867.3000   873.3333   840.0333    842.3667  2.408006e+09   \n",
       "1     05/05/2014   842.7333   863.3333   834.1333    855.9667  1.871180e+09   \n",
       "2     06/05/2014   861.0333   869.8000   859.2667    866.6667  1.716827e+09   \n",
       "3     07/05/2014   865.1333   875.3333   859.3667    863.7333  1.996398e+09   \n",
       "4     08/05/2014   868.3333   871.8667   850.6667    866.1000  2.833874e+09   \n",
       "...          ...        ...        ...        ...         ...           ...   \n",
       "2504  14/06/2024  3718.0000  3720.0000  3675.0000   3687.8000  6.444028e+09   \n",
       "2505  18/06/2024  3708.0000  3710.0000  3675.0000   3689.2000  7.155863e+09   \n",
       "2506  19/06/2024  3690.0000  3699.0000  3575.0000   3589.9500  1.063733e+10   \n",
       "2507  20/06/2024  3584.9500  3613.3000  3564.6000   3594.4500  9.394746e+09   \n",
       "2508  21/06/2024  3604.0500  3610.0000  3516.0000   3535.0000  1.599073e+10   \n",
       "\n",
       "      Numberoftrades  TradedQuantity  AveragePrice  \n",
       "0              80981         2832488      850.1382  \n",
       "1              57493         2194436      852.6927  \n",
       "2              42173         1984607      865.0717  \n",
       "3              55984         2302158      867.1854  \n",
       "4              68693         3285168      862.6268  \n",
       "...              ...             ...           ...  \n",
       "2504          116358         1746508     3689.6639  \n",
       "2505          125205         1936792     3694.6989  \n",
       "2506          174218         2936151     3622.8809  \n",
       "2507          168275         2618715     3587.5406  \n",
       "2508          208119         4508508     3546.7908  \n",
       "\n",
       "[2509 rows x 9 columns]"
      ]
     },
     "execution_count": 3,
     "metadata": {},
     "output_type": "execute_result"
    }
   ],
   "source": [
    "df"
   ]
  },
  {
   "cell_type": "code",
   "execution_count": 4,
   "id": "3d6383be",
   "metadata": {},
   "outputs": [
    {
     "data": {
      "image/png": "[encoded data removed]",
      "text/plain": [
       "<Figure size 640x480 with 1 Axes>"
      ]
     },
     "metadata": {},
     "output_type": "display_data"
    }
   ],
   "source": [
    "df['PriceDate'] = pd.to_datetime(df['PriceDate'],format='%d/%m/%Y')\n",
    "timeseries = df[[\"AveragePrice\"]].values.astype('float32')\n",
    " \n",
    "plt.plot(df['PriceDate'][:2000],timeseries[:2000])\n",
    "plt.show()"
   ]
  },
  {
   "cell_type": "code",
   "execution_count": 5,
   "id": "76d6e2cb",
   "metadata": {},
   "outputs": [],
   "source": [
    "from sklearn.preprocessing import StandardScaler\n",
    "\n",
    "# Assuming 'timeseries' is your original time series data\n",
    "\n",
    "# Calculate sizes for train, test, and validation sets\n",
    "train_size = int(len(timeseries) * 0.7)\n",
    "test_size = int(len(timeseries) * 0.15)\n",
    "validation_size = int(len(timeseries) * 0.15)\n",
    "\n",
    "# Split the data\n",
    "train_data = timeseries[:train_size]\n",
    "temp_data = timeseries[train_size:]\n",
    "\n",
    "test_data = temp_data\n",
    "validation_data = temp_data[:test_size]\n",
    "\n",
    "# Initialize the StandardScaler\n",
    "scaler = StandardScaler()\n",
    "\n",
    "# Fit the scaler on the training data and transform it\n",
    "total_data_scaled = scaler.fit_transform(timeseries.reshape(-1, 1)).flatten()\n",
    "train_data_scaled = scaler.transform(train_data.reshape(-1, 1)).flatten()\n",
    "\n",
    "# Transform the test and validation data using the scaler fitted on the training data\n",
    "test_data_scaled = scaler.transform(test_data.reshape(-1, 1)).flatten()\n",
    "validation_data_scaled = scaler.transform(validation_data.reshape(-1, 1)).flatten()\n",
    "\n",
    "# Now train_data_scaled, test_data_scaled, and validation_data_scaled\n",
    "# contain your scaled data\n"
   ]
  },
  {
   "cell_type": "code",
   "execution_count": 7,
   "id": "91a7efd9",
   "metadata": {},
   "outputs": [],
   "source": [
    "########\n",
    "import torch\n",
    "from torch.utils.data import Dataset,DataLoader\n",
    "class Dataset:\n",
    "    \"\"\"Transform a time series into a prediction dataset\n",
    "    \n",
    "    Args:\n",
    "        feature: A numpy array of time series, first dimension is the time steps\n",
    "        sequence_length: Size of window for prediction\n",
    "    \"\"\"\n",
    "    def __init__(self, feature, sequence_length):\n",
    "        self.feature = feature\n",
    "        self.sequence_length = sequence_length\n",
    "    \n",
    "    def __len__(self):\n",
    "        return len(self.feature) - self.sequence_length\n",
    "    \n",
    "    def __getitem__(self, idx):\n",
    "        idx_end = idx + self.sequence_length\n",
    "        feature = self.feature[idx:idx_end]\n",
    "        label = self.feature[idx_end]\n",
    "        \n",
    "        return torch.tensor(feature),torch.tensor(label)\n"
   ]
  },
  {
   "cell_type": "code",
   "execution_count": 8,
   "id": "63889b65",
   "metadata": {},
   "outputs": [],
   "source": [
    "sequence_length=20\n",
    "total_dataset=Dataset(total_data_scaled,sequence_length)\n",
    "train_dataset=Dataset(train_data_scaled,sequence_length)\n",
    "test_dataset= Dataset(test_data_scaled, sequence_length)\n",
    "val_dataset= Dataset(validation_data_scaled, sequence_length)\n"
   ]
  },
  {
   "cell_type": "code",
   "execution_count": 9,
   "id": "dd97a852",
   "metadata": {},
   "outputs": [],
   "source": [
    "total_loader=DataLoader(total_dataset,batch_size=4,shuffle=False)\n",
    "train_loader=DataLoader(train_dataset,batch_size=4,shuffle=False)\n",
    "test_loader=DataLoader(test_dataset,batch_size=4,shuffle=False)\n",
    "val_loader=DataLoader(val_dataset,batch_size=4,shuffle=False)"
   ]
  },
  {
   "cell_type": "code",
   "execution_count": 10,
   "id": "29edb6bf",
   "metadata": {},
   "outputs": [],
   "source": [
    "###############################\n",
    "from torch import nn\n",
    "class RNN(nn.Module):\n",
    "    def __init__(self, input_size, hidden_size, output_size, num_layers):\n",
    "        super(RNN, self).__init__()\n",
    "        self.hidden_size = hidden_size\n",
    "        self.num_layers = num_layers\n",
    "        # Basic RNN layer, without dropout\n",
    "        self.rnn = nn.RNN(input_size, hidden_size, num_layers, batch_first=True)\n",
    "        self.tanh = nn.Tanh()  # Tanh activation layer\n",
    "        self.fc = nn.Linear(hidden_size, output_size)\n",
    "\n",
    "    def forward(self, x):\n",
    "        # Initial hidden state*/\n",
    "        h0 = torch.zeros(self.num_layers, x.size(0), self.hidden_size).to(x.device)\n",
    "        # RNN output\n",
    "\n",
    "        out, _ = self.rnn(x, h0)\n",
    "        # Apply Tanh to the outputs of the RNN layer\n",
    "        out = self.tanh(out)\n",
    "        # Get the last sequence output accorss all batches\n",
    "        out = out[:, -1, :]\n",
    "        # Apply the linear layer for the final output\n",
    "        out = self.fc(out)\n",
    "        return out"
   ]
  },
  {
   "cell_type": "code",
   "execution_count": 11,
   "id": "b5323ccf",
   "metadata": {},
   "outputs": [],
   "source": [
    "from torch import optim\n",
    "model = RNN(input_size=1, hidden_size=64, output_size=1, num_layers=2)\n",
    "optimizer = optim.Adam(model.parameters(),lr=0.0001)\n",
    "criterion = nn.MSELoss()\n"
   ]
  },
  {
   "cell_type": "code",
   "execution_count": 15,
   "id": "4953608e",
   "metadata": {},
   "outputs": [
    {
     "name": "stderr",
     "output_type": "stream",
     "text": [
      "100%|███████████████████████████████████████████████████████████████████████████████| 434/434 [00:02<00:00, 185.36it/s]\n",
      "100%|█████████████████████████████████████████████████████████████████████████████████| 89/89 [00:00<00:00, 848.17it/s]\n"
     ]
    },
    {
     "name": "stdout",
     "output_type": "stream",
     "text": [
      "Epoch 1/20, Train Loss: 0.0042501751530948624, Val Loss: 0.012641498170207056, mse: 0.012641497887670994\n"
     ]
    },
    {
     "name": "stderr",
     "output_type": "stream",
     "text": [
      "100%|███████████████████████████████████████████████████████████████████████████████| 434/434 [00:02<00:00, 176.34it/s]\n",
      "100%|█████████████████████████████████████████████████████████████████████████████████| 89/89 [00:00<00:00, 950.84it/s]\n"
     ]
    },
    {
     "name": "stdout",
     "output_type": "stream",
     "text": [
      "Epoch 2/20, Train Loss: 0.004257575789003991, Val Loss: 0.012171042721235883, mse: 0.012171043083071709\n"
     ]
    },
    {
     "name": "stderr",
     "output_type": "stream",
     "text": [
      "100%|███████████████████████████████████████████████████████████████████████████████| 434/434 [00:02<00:00, 200.46it/s]\n",
      "100%|█████████████████████████████████████████████████████████████████████████████████| 89/89 [00:00<00:00, 873.77it/s]\n"
     ]
    },
    {
     "name": "stdout",
     "output_type": "stream",
     "text": [
      "Epoch 3/20, Train Loss: 0.004241599207283974, Val Loss: 0.011874317160475309, mse: 0.011874317191541195\n"
     ]
    },
    {
     "name": "stderr",
     "output_type": "stream",
     "text": [
      "100%|███████████████████████████████████████████████████████████████████████████████| 434/434 [00:02<00:00, 185.05it/s]\n",
      "100%|█████████████████████████████████████████████████████████████████████████████████| 89/89 [00:00<00:00, 876.52it/s]\n"
     ]
    },
    {
     "name": "stdout",
     "output_type": "stream",
     "text": [
      "Epoch 4/20, Train Loss: 0.00423373175637884, Val Loss: 0.011574986669217927, mse: 0.011574986390769482\n"
     ]
    },
    {
     "name": "stderr",
     "output_type": "stream",
     "text": [
      "100%|███████████████████████████████████████████████████████████████████████████████| 434/434 [00:02<00:00, 181.12it/s]\n",
      "100%|█████████████████████████████████████████████████████████████████████████████████| 89/89 [00:00<00:00, 859.09it/s]\n"
     ]
    },
    {
     "name": "stdout",
     "output_type": "stream",
     "text": [
      "Epoch 5/20, Train Loss: 0.004227383702594791, Val Loss: 0.011234372553057195, mse: 0.011234371922910213\n"
     ]
    },
    {
     "name": "stderr",
     "output_type": "stream",
     "text": [
      "100%|███████████████████████████████████████████████████████████████████████████████| 434/434 [00:02<00:00, 195.15it/s]\n",
      "100%|█████████████████████████████████████████████████████████████████████████████████| 89/89 [00:00<00:00, 926.39it/s]\n"
     ]
    },
    {
     "name": "stdout",
     "output_type": "stream",
     "text": [
      "Epoch 6/20, Train Loss: 0.004220787823759636, Val Loss: 0.010826911950899874, mse: 0.010826912708580494\n"
     ]
    },
    {
     "name": "stderr",
     "output_type": "stream",
     "text": [
      "100%|███████████████████████████████████████████████████████████████████████████████| 434/434 [00:02<00:00, 190.46it/s]\n",
      "100%|█████████████████████████████████████████████████████████████████████████████████| 89/89 [00:00<00:00, 908.71it/s]\n"
     ]
    },
    {
     "name": "stdout",
     "output_type": "stream",
     "text": [
      "Epoch 7/20, Train Loss: 0.004213522122693236, Val Loss: 0.010333195395585871, mse: 0.010333195328712463\n"
     ]
    },
    {
     "name": "stderr",
     "output_type": "stream",
     "text": [
      "100%|███████████████████████████████████████████████████████████████████████████████| 434/434 [00:02<00:00, 194.39it/s]\n",
      "100%|█████████████████████████████████████████████████████████████████████████████████| 89/89 [00:00<00:00, 899.75it/s]\n"
     ]
    },
    {
     "name": "stdout",
     "output_type": "stream",
     "text": [
      "Epoch 8/20, Train Loss: 0.004205477293229211, Val Loss: 0.009756979586496383, mse: 0.00975697860121727\n"
     ]
    },
    {
     "name": "stderr",
     "output_type": "stream",
     "text": [
      "100%|███████████████████████████████████████████████████████████████████████████████| 434/434 [00:02<00:00, 184.17it/s]\n",
      "100%|█████████████████████████████████████████████████████████████████████████████████| 89/89 [00:00<00:00, 928.36it/s]\n"
     ]
    },
    {
     "name": "stdout",
     "output_type": "stream",
     "text": [
      "Epoch 9/20, Train Loss: 0.004196644211285279, Val Loss: 0.009156731248858092, mse: 0.009156730957329273\n"
     ]
    },
    {
     "name": "stderr",
     "output_type": "stream",
     "text": [
      "100%|███████████████████████████████████████████████████████████████████████████████| 434/434 [00:02<00:00, 187.39it/s]\n",
      "100%|█████████████████████████████████████████████████████████████████████████████████| 89/89 [00:00<00:00, 920.08it/s]\n"
     ]
    },
    {
     "name": "stdout",
     "output_type": "stream",
     "text": [
      "Epoch 10/20, Train Loss: 0.004187176318309825, Val Loss: 0.008616543430383736, mse: 0.008616543374955654\n"
     ]
    },
    {
     "name": "stderr",
     "output_type": "stream",
     "text": [
      "100%|███████████████████████████████████████████████████████████████████████████████| 434/434 [00:02<00:00, 175.13it/s]\n",
      "100%|█████████████████████████████████████████████████████████████████████████████████| 89/89 [00:00<00:00, 739.65it/s]\n"
     ]
    },
    {
     "name": "stdout",
     "output_type": "stream",
     "text": [
      "Epoch 11/20, Train Loss: 0.0041765952880063375, Val Loss: 0.008161572735884824, mse: 0.008161572739481926\n"
     ]
    },
    {
     "name": "stderr",
     "output_type": "stream",
     "text": [
      "100%|███████████████████████████████████████████████████████████████████████████████| 434/434 [00:02<00:00, 180.59it/s]\n",
      "100%|█████████████████████████████████████████████████████████████████████████████████| 89/89 [00:00<00:00, 875.05it/s]\n"
     ]
    },
    {
     "name": "stdout",
     "output_type": "stream",
     "text": [
      "Epoch 12/20, Train Loss: 0.004165632876167097, Val Loss: 0.007816454860659086, mse: 0.007816455326974392\n"
     ]
    },
    {
     "name": "stderr",
     "output_type": "stream",
     "text": [
      "100%|███████████████████████████████████████████████████████████████████████████████| 434/434 [00:02<00:00, 163.34it/s]\n",
      "100%|█████████████████████████████████████████████████████████████████████████████████| 89/89 [00:00<00:00, 858.66it/s]\n"
     ]
    },
    {
     "name": "stdout",
     "output_type": "stream",
     "text": [
      "Epoch 13/20, Train Loss: 0.004154413802538211, Val Loss: 0.007528031495853662, mse: 0.007528031710535288\n"
     ]
    },
    {
     "name": "stderr",
     "output_type": "stream",
     "text": [
      "100%|███████████████████████████████████████████████████████████████████████████████| 434/434 [00:02<00:00, 197.46it/s]\n",
      "100%|█████████████████████████████████████████████████████████████████████████████████| 89/89 [00:00<00:00, 924.91it/s]\n"
     ]
    },
    {
     "name": "stdout",
     "output_type": "stream",
     "text": [
      "Epoch 14/20, Train Loss: 0.004143379582898557, Val Loss: 0.007311050939616313, mse: 0.007311050780117512\n"
     ]
    },
    {
     "name": "stderr",
     "output_type": "stream",
     "text": [
      "100%|███████████████████████████████████████████████████████████████████████████████| 434/434 [00:02<00:00, 200.93it/s]\n",
      "100%|█████████████████████████████████████████████████████████████████████████████████| 89/89 [00:00<00:00, 949.38it/s]\n"
     ]
    },
    {
     "name": "stdout",
     "output_type": "stream",
     "text": [
      "Epoch 15/20, Train Loss: 0.00413225119032994, Val Loss: 0.007123373507710404, mse: 0.007123373914510012\n"
     ]
    },
    {
     "name": "stderr",
     "output_type": "stream",
     "text": [
      "100%|███████████████████████████████████████████████████████████████████████████████| 434/434 [00:02<00:00, 202.13it/s]\n",
      "100%|█████████████████████████████████████████████████████████████████████████████████| 89/89 [00:00<00:00, 989.25it/s]\n"
     ]
    },
    {
     "name": "stdout",
     "output_type": "stream",
     "text": [
      "Epoch 16/20, Train Loss: 0.00412155805618312, Val Loss: 0.006969947664504034, mse: 0.0069699473679065704\n"
     ]
    },
    {
     "name": "stderr",
     "output_type": "stream",
     "text": [
      "100%|███████████████████████████████████████████████████████████████████████████████| 434/434 [00:02<00:00, 201.81it/s]\n",
      "100%|█████████████████████████████████████████████████████████████████████████████████| 89/89 [00:00<00:00, 932.16it/s]\n"
     ]
    },
    {
     "name": "stdout",
     "output_type": "stream",
     "text": [
      "Epoch 17/20, Train Loss: 0.004110542478997035, Val Loss: 0.006828831879257256, mse: 0.006828831974416971\n"
     ]
    },
    {
     "name": "stderr",
     "output_type": "stream",
     "text": [
      "100%|███████████████████████████████████████████████████████████████████████████████| 434/434 [00:02<00:00, 204.03it/s]\n",
      "100%|█████████████████████████████████████████████████████████████████████████████████| 89/89 [00:00<00:00, 869.08it/s]\n"
     ]
    },
    {
     "name": "stdout",
     "output_type": "stream",
     "text": [
      "Epoch 18/20, Train Loss: 0.004099861662111813, Val Loss: 0.006707938449222495, mse: 0.006707938853651285\n"
     ]
    },
    {
     "name": "stderr",
     "output_type": "stream",
     "text": [
      "100%|███████████████████████████████████████████████████████████████████████████████| 434/434 [00:02<00:00, 206.19it/s]\n",
      "100%|█████████████████████████████████████████████████████████████████████████████████| 89/89 [00:00<00:00, 913.32it/s]\n"
     ]
    },
    {
     "name": "stdout",
     "output_type": "stream",
     "text": [
      "Epoch 19/20, Train Loss: 0.004088784099911183, Val Loss: 0.006591984943298393, mse: 0.006591985002160072\n"
     ]
    },
    {
     "name": "stderr",
     "output_type": "stream",
     "text": [
      "100%|███████████████████████████████████████████████████████████████████████████████| 434/434 [00:02<00:00, 204.30it/s]\n",
      "100%|█████████████████████████████████████████████████████████████████████████████████| 89/89 [00:00<00:00, 860.99it/s]"
     ]
    },
    {
     "name": "stdout",
     "output_type": "stream",
     "text": [
      "Epoch 20/20, Train Loss: 0.004077901945765497, Val Loss: 0.006487075175816623, mse: 0.0064870757050812244\n"
     ]
    },
    {
     "name": "stderr",
     "output_type": "stream",
     "text": [
      "\n"
     ]
    }
   ],
   "source": [
    "train_epoch_loss = []\n",
    "val_epoch_loss = []\n",
    "val_metrics = []\n",
    "epochs = 20\n",
    "import  numpy as np\n",
    "from sklearn.metrics import mean_squared_error, mean_absolute_error\n",
    "from tqdm import tqdm\n",
    "\n",
    "for epoch in range(1, epochs + 1):\n",
    "    total_train_loss = 0.0\n",
    "    total_val_loss = 0.0\n",
    "    predictions = []\n",
    "    targets = []\n",
    "    \n",
    "    # Training loop\n",
    "    model.train()\n",
    "    for inputs, labels in tqdm(train_loader):\n",
    "        optimizer.zero_grad()\n",
    "        inputs = inputs.unsqueeze(-1)\n",
    "        outputs = model(inputs)\n",
    "        loss = criterion(outputs,labels.unsqueeze(-1))\n",
    "        loss.backward()\n",
    "        optimizer.step()\n",
    "        total_train_loss += loss.item() * inputs.size(0)\n",
    "        \n",
    "    train_epoch_loss.append(total_train_loss / len(train_loader.dataset))\n",
    "    \n",
    "    # Validation loop\n",
    "    model.eval()\n",
    "    with torch.no_grad():\n",
    "        for inputs, labels in tqdm(val_loader):\n",
    "            inputs = inputs.unsqueeze(-1)\n",
    "            outputs = model(inputs)\n",
    "        \n",
    "            loss = criterion(outputs,labels.unsqueeze(-1))\n",
    "            total_val_loss += loss.item() * inputs.size(0)\n",
    "            predictions.extend(outputs.cpu().detach().numpy())\n",
    "            targets.extend(labels.cpu().detach().numpy())\n",
    "        \n",
    "    val_epoch_loss.append(total_val_loss / len(val_loader.dataset))\n",
    "    \n",
    "    # Calculate validation metrics (e.g., MAE, RMSE)\n",
    "    predictions = np.array(predictions)\n",
    "    targets = np.array(targets)\n",
    "    mse=mean_squared_error(predictions,targets)\n",
    "    \n",
    "    print(f\"Epoch {epoch}/{epochs}, Train Loss: {train_epoch_loss[-1]}, Val Loss: {val_epoch_loss[-1]}, mse: {mse}\")\n"
   ]
  },
  {
   "cell_type": "code",
   "execution_count": 18,
   "id": "6ec0262c",
   "metadata": {},
   "outputs": [
    {
     "name": "stderr",
     "output_type": "stream",
     "text": [
      "100%|███████████████████████████████████████████████████████████████████████████████| 184/184 [00:00<00:00, 930.11it/s]\n"
     ]
    },
    {
     "data": {
      "image/png": "[encoded data removed]",
      "text/plain": [
       "<Figure size 1000x600 with 1 Axes>"
      ]
     },
     "metadata": {},
     "output_type": "display_data"
    }
   ],
   "source": [
    "predictions = []\n",
    "targets = []\n",
    "model.eval()\n",
    "with torch.no_grad():\n",
    "    for inputs, labels in tqdm(test_loader):\n",
    "        inputs = inputs.unsqueeze(-1)\n",
    "        outputs = model(inputs)\n",
    "\n",
    "        loss = criterion(outputs,labels.unsqueeze(-1))\n",
    "        total_val_loss += loss.item() * inputs.size(0)\n",
    "        predictions.extend(outputs.cpu().detach().numpy())\n",
    "        targets.extend(labels.cpu().detach().numpy())\n",
    "\n",
    "\n",
    "predictions =scaler.inverse_transform(np.array(predictions).reshape(-1, 1))\n",
    "                       \n",
    "                       \n",
    "targets =scaler.inverse_transform(np.array(targets).reshape(-1, 1))\n",
    "\n",
    "# Plotting forecasted predictions vs actual\n",
    "plt.figure(figsize=(10, 6))\n",
    "plt.plot(targets, label='Actual', color='blue')\n",
    "plt.plot(predictions, label='Predicted', color='red')\n",
    "plt.title('Forecasted Predictions vs Actual')\n",
    "plt.xlabel('Time')\n",
    "plt.ylabel('Value')\n",
    "plt.legend()\n",
    "plt.grid(True)\n",
    "plt.show()"
   ]
  },
  {
   "cell_type": "code",
   "execution_count": null,
   "id": "b12f2c67",
   "metadata": {},
   "outputs": [],
   "source": []
  },
  {
   "cell_type": "code",
   "execution_count": null,
   "id": "653e8e4f",
   "metadata": {},
   "outputs": [],
   "source": []
  },
  {
   "cell_type": "code",
   "execution_count": null,
   "id": "f7d59d92",
   "metadata": {},
   "outputs": [],
   "source": []
  }
 ],
 "metadata": {
  "kernelspec": {
   "display_name": "Python 3 (ipykernel)",
   "language": "python",
   "name": "python3"
  },
  "language_info": {
   "codemirror_mode": {
    "name": "ipython",
    "version": 3
   },
   "file_extension": ".py",
   "mimetype": "text/x-python",
   "name": "python",
   "nbconvert_exporter": "python",
   "pygments_lexer": "ipython3",
   "version": "3.9.13"
  }
 },
 "nbformat": 4,
 "nbformat_minor": 5
}
